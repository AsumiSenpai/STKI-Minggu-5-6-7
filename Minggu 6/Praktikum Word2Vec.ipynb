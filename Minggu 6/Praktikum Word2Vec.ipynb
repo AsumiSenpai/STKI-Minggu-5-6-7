{
  "nbformat": 4,
  "nbformat_minor": 0,
  "metadata": {
    "colab": {
      "provenance": []
    },
    "kernelspec": {
      "name": "python3",
      "display_name": "Python 3"
    },
    "language_info": {
      "name": "python"
    }
  },
  "cells": [
    {
      "cell_type": "markdown",
      "source": [
        "# **Prediction based Embedding menggunakan Word2Vec**"
      ],
      "metadata": {
        "id": "kV-RFoW3ajvk"
      }
    },
    {
      "cell_type": "markdown",
      "source": [
        "# 1. Install and Import Library"
      ],
      "metadata": {
        "id": "vV-3msvsawMa"
      }
    },
    {
      "cell_type": "code",
      "execution_count": 1,
      "metadata": {
        "id": "v2RAUKyPWzQB"
      },
      "outputs": [],
      "source": [
        "import pandas as pd\n",
        "import numpy as np\n",
        "import matplotlib.pyplot as plt\n",
        "import seaborn as sns\n",
        "import pickle\n",
        "\n",
        "import tensorflow as tf\n",
        "\n",
        "%matplotlib inline\n",
        "\n",
        "import warnings\n",
        "warnings.filterwarnings('ignore')"
      ]
    },
    {
      "cell_type": "markdown",
      "source": [
        "# 2. Data Acquisition"
      ],
      "metadata": {
        "id": "lJJYiNRWdlwx"
      }
    },
    {
      "cell_type": "code",
      "source": [
        "data = pd.read_csv('https://raw.githubusercontent.com/meodai/color-names/master/src/colornames.csv')\n",
        "data.head()"
      ],
      "metadata": {
        "colab": {
          "base_uri": "https://localhost:8080/",
          "height": 206
        },
        "id": "RMxNSi5jYJKB",
        "outputId": "13f94db2-1de6-4727-807b-9e16a9041f6e"
      },
      "execution_count": 2,
      "outputs": [
        {
          "output_type": "execute_result",
          "data": {
            "text/plain": [
              "                          name      hex good name\n",
              "0                      100 Mph  #c93f38         x\n",
              "1           18th Century Green  #a59344       NaN\n",
              "2               1975 Earth Red  #7b463b       NaN\n",
              "3           1989 Miami Hotline  #dd3366       NaN\n",
              "4  20000 Leagues Under the Sea  #191970         x"
            ],
            "text/html": [
              "\n",
              "  <div id=\"df-6f2d484a-12bf-4650-b1b1-695e274ad230\" class=\"colab-df-container\">\n",
              "    <div>\n",
              "<style scoped>\n",
              "    .dataframe tbody tr th:only-of-type {\n",
              "        vertical-align: middle;\n",
              "    }\n",
              "\n",
              "    .dataframe tbody tr th {\n",
              "        vertical-align: top;\n",
              "    }\n",
              "\n",
              "    .dataframe thead th {\n",
              "        text-align: right;\n",
              "    }\n",
              "</style>\n",
              "<table border=\"1\" class=\"dataframe\">\n",
              "  <thead>\n",
              "    <tr style=\"text-align: right;\">\n",
              "      <th></th>\n",
              "      <th>name</th>\n",
              "      <th>hex</th>\n",
              "      <th>good name</th>\n",
              "    </tr>\n",
              "  </thead>\n",
              "  <tbody>\n",
              "    <tr>\n",
              "      <th>0</th>\n",
              "      <td>100 Mph</td>\n",
              "      <td>#c93f38</td>\n",
              "      <td>x</td>\n",
              "    </tr>\n",
              "    <tr>\n",
              "      <th>1</th>\n",
              "      <td>18th Century Green</td>\n",
              "      <td>#a59344</td>\n",
              "      <td>NaN</td>\n",
              "    </tr>\n",
              "    <tr>\n",
              "      <th>2</th>\n",
              "      <td>1975 Earth Red</td>\n",
              "      <td>#7b463b</td>\n",
              "      <td>NaN</td>\n",
              "    </tr>\n",
              "    <tr>\n",
              "      <th>3</th>\n",
              "      <td>1989 Miami Hotline</td>\n",
              "      <td>#dd3366</td>\n",
              "      <td>NaN</td>\n",
              "    </tr>\n",
              "    <tr>\n",
              "      <th>4</th>\n",
              "      <td>20000 Leagues Under the Sea</td>\n",
              "      <td>#191970</td>\n",
              "      <td>x</td>\n",
              "    </tr>\n",
              "  </tbody>\n",
              "</table>\n",
              "</div>\n",
              "    <div class=\"colab-df-buttons\">\n",
              "\n",
              "  <div class=\"colab-df-container\">\n",
              "    <button class=\"colab-df-convert\" onclick=\"convertToInteractive('df-6f2d484a-12bf-4650-b1b1-695e274ad230')\"\n",
              "            title=\"Convert this dataframe to an interactive table.\"\n",
              "            style=\"display:none;\">\n",
              "\n",
              "  <svg xmlns=\"http://www.w3.org/2000/svg\" height=\"24px\" viewBox=\"0 -960 960 960\">\n",
              "    <path d=\"M120-120v-720h720v720H120Zm60-500h600v-160H180v160Zm220 220h160v-160H400v160Zm0 220h160v-160H400v160ZM180-400h160v-160H180v160Zm440 0h160v-160H620v160ZM180-180h160v-160H180v160Zm440 0h160v-160H620v160Z\"/>\n",
              "  </svg>\n",
              "    </button>\n",
              "\n",
              "  <style>\n",
              "    .colab-df-container {\n",
              "      display:flex;\n",
              "      gap: 12px;\n",
              "    }\n",
              "\n",
              "    .colab-df-convert {\n",
              "      background-color: #E8F0FE;\n",
              "      border: none;\n",
              "      border-radius: 50%;\n",
              "      cursor: pointer;\n",
              "      display: none;\n",
              "      fill: #1967D2;\n",
              "      height: 32px;\n",
              "      padding: 0 0 0 0;\n",
              "      width: 32px;\n",
              "    }\n",
              "\n",
              "    .colab-df-convert:hover {\n",
              "      background-color: #E2EBFA;\n",
              "      box-shadow: 0px 1px 2px rgba(60, 64, 67, 0.3), 0px 1px 3px 1px rgba(60, 64, 67, 0.15);\n",
              "      fill: #174EA6;\n",
              "    }\n",
              "\n",
              "    .colab-df-buttons div {\n",
              "      margin-bottom: 4px;\n",
              "    }\n",
              "\n",
              "    [theme=dark] .colab-df-convert {\n",
              "      background-color: #3B4455;\n",
              "      fill: #D2E3FC;\n",
              "    }\n",
              "\n",
              "    [theme=dark] .colab-df-convert:hover {\n",
              "      background-color: #434B5C;\n",
              "      box-shadow: 0px 1px 3px 1px rgba(0, 0, 0, 0.15);\n",
              "      filter: drop-shadow(0px 1px 2px rgba(0, 0, 0, 0.3));\n",
              "      fill: #FFFFFF;\n",
              "    }\n",
              "  </style>\n",
              "\n",
              "    <script>\n",
              "      const buttonEl =\n",
              "        document.querySelector('#df-6f2d484a-12bf-4650-b1b1-695e274ad230 button.colab-df-convert');\n",
              "      buttonEl.style.display =\n",
              "        google.colab.kernel.accessAllowed ? 'block' : 'none';\n",
              "\n",
              "      async function convertToInteractive(key) {\n",
              "        const element = document.querySelector('#df-6f2d484a-12bf-4650-b1b1-695e274ad230');\n",
              "        const dataTable =\n",
              "          await google.colab.kernel.invokeFunction('convertToInteractive',\n",
              "                                                    [key], {});\n",
              "        if (!dataTable) return;\n",
              "\n",
              "        const docLinkHtml = 'Like what you see? Visit the ' +\n",
              "          '<a target=\"_blank\" href=https://colab.research.google.com/notebooks/data_table.ipynb>data table notebook</a>'\n",
              "          + ' to learn more about interactive tables.';\n",
              "        element.innerHTML = '';\n",
              "        dataTable['output_type'] = 'display_data';\n",
              "        await google.colab.output.renderOutput(dataTable, element);\n",
              "        const docLink = document.createElement('div');\n",
              "        docLink.innerHTML = docLinkHtml;\n",
              "        element.appendChild(docLink);\n",
              "      }\n",
              "    </script>\n",
              "  </div>\n",
              "\n",
              "\n",
              "<div id=\"df-208cc073-1b76-4669-b616-70ad27fd1f87\">\n",
              "  <button class=\"colab-df-quickchart\" onclick=\"quickchart('df-208cc073-1b76-4669-b616-70ad27fd1f87')\"\n",
              "            title=\"Suggest charts.\"\n",
              "            style=\"display:none;\">\n",
              "\n",
              "<svg xmlns=\"http://www.w3.org/2000/svg\" height=\"24px\"viewBox=\"0 0 24 24\"\n",
              "     width=\"24px\">\n",
              "    <g>\n",
              "        <path d=\"M19 3H5c-1.1 0-2 .9-2 2v14c0 1.1.9 2 2 2h14c1.1 0 2-.9 2-2V5c0-1.1-.9-2-2-2zM9 17H7v-7h2v7zm4 0h-2V7h2v10zm4 0h-2v-4h2v4z\"/>\n",
              "    </g>\n",
              "</svg>\n",
              "  </button>\n",
              "\n",
              "<style>\n",
              "  .colab-df-quickchart {\n",
              "      --bg-color: #E8F0FE;\n",
              "      --fill-color: #1967D2;\n",
              "      --hover-bg-color: #E2EBFA;\n",
              "      --hover-fill-color: #174EA6;\n",
              "      --disabled-fill-color: #AAA;\n",
              "      --disabled-bg-color: #DDD;\n",
              "  }\n",
              "\n",
              "  [theme=dark] .colab-df-quickchart {\n",
              "      --bg-color: #3B4455;\n",
              "      --fill-color: #D2E3FC;\n",
              "      --hover-bg-color: #434B5C;\n",
              "      --hover-fill-color: #FFFFFF;\n",
              "      --disabled-bg-color: #3B4455;\n",
              "      --disabled-fill-color: #666;\n",
              "  }\n",
              "\n",
              "  .colab-df-quickchart {\n",
              "    background-color: var(--bg-color);\n",
              "    border: none;\n",
              "    border-radius: 50%;\n",
              "    cursor: pointer;\n",
              "    display: none;\n",
              "    fill: var(--fill-color);\n",
              "    height: 32px;\n",
              "    padding: 0;\n",
              "    width: 32px;\n",
              "  }\n",
              "\n",
              "  .colab-df-quickchart:hover {\n",
              "    background-color: var(--hover-bg-color);\n",
              "    box-shadow: 0 1px 2px rgba(60, 64, 67, 0.3), 0 1px 3px 1px rgba(60, 64, 67, 0.15);\n",
              "    fill: var(--button-hover-fill-color);\n",
              "  }\n",
              "\n",
              "  .colab-df-quickchart-complete:disabled,\n",
              "  .colab-df-quickchart-complete:disabled:hover {\n",
              "    background-color: var(--disabled-bg-color);\n",
              "    fill: var(--disabled-fill-color);\n",
              "    box-shadow: none;\n",
              "  }\n",
              "\n",
              "  .colab-df-spinner {\n",
              "    border: 2px solid var(--fill-color);\n",
              "    border-color: transparent;\n",
              "    border-bottom-color: var(--fill-color);\n",
              "    animation:\n",
              "      spin 1s steps(1) infinite;\n",
              "  }\n",
              "\n",
              "  @keyframes spin {\n",
              "    0% {\n",
              "      border-color: transparent;\n",
              "      border-bottom-color: var(--fill-color);\n",
              "      border-left-color: var(--fill-color);\n",
              "    }\n",
              "    20% {\n",
              "      border-color: transparent;\n",
              "      border-left-color: var(--fill-color);\n",
              "      border-top-color: var(--fill-color);\n",
              "    }\n",
              "    30% {\n",
              "      border-color: transparent;\n",
              "      border-left-color: var(--fill-color);\n",
              "      border-top-color: var(--fill-color);\n",
              "      border-right-color: var(--fill-color);\n",
              "    }\n",
              "    40% {\n",
              "      border-color: transparent;\n",
              "      border-right-color: var(--fill-color);\n",
              "      border-top-color: var(--fill-color);\n",
              "    }\n",
              "    60% {\n",
              "      border-color: transparent;\n",
              "      border-right-color: var(--fill-color);\n",
              "    }\n",
              "    80% {\n",
              "      border-color: transparent;\n",
              "      border-right-color: var(--fill-color);\n",
              "      border-bottom-color: var(--fill-color);\n",
              "    }\n",
              "    90% {\n",
              "      border-color: transparent;\n",
              "      border-bottom-color: var(--fill-color);\n",
              "    }\n",
              "  }\n",
              "</style>\n",
              "\n",
              "  <script>\n",
              "    async function quickchart(key) {\n",
              "      const quickchartButtonEl =\n",
              "        document.querySelector('#' + key + ' button');\n",
              "      quickchartButtonEl.disabled = true;  // To prevent multiple clicks.\n",
              "      quickchartButtonEl.classList.add('colab-df-spinner');\n",
              "      try {\n",
              "        const charts = await google.colab.kernel.invokeFunction(\n",
              "            'suggestCharts', [key], {});\n",
              "      } catch (error) {\n",
              "        console.error('Error during call to suggestCharts:', error);\n",
              "      }\n",
              "      quickchartButtonEl.classList.remove('colab-df-spinner');\n",
              "      quickchartButtonEl.classList.add('colab-df-quickchart-complete');\n",
              "    }\n",
              "    (() => {\n",
              "      let quickchartButtonEl =\n",
              "        document.querySelector('#df-208cc073-1b76-4669-b616-70ad27fd1f87 button');\n",
              "      quickchartButtonEl.style.display =\n",
              "        google.colab.kernel.accessAllowed ? 'block' : 'none';\n",
              "    })();\n",
              "  </script>\n",
              "</div>\n",
              "    </div>\n",
              "  </div>\n"
            ]
          },
          "metadata": {},
          "execution_count": 2
        }
      ]
    },
    {
      "cell_type": "markdown",
      "source": [
        "# 3. Text Preprocessing"
      ],
      "metadata": {
        "id": "mafJdVLOdvRY"
      }
    },
    {
      "cell_type": "code",
      "source": [
        "import re\n",
        "\n",
        "def text_preprocessing(text):\n",
        "    text = text.lower()\n",
        "    text = re.sub(r'https?://\\S+|www\\.\\S+', '', text)\n",
        "    text = re.sub(r'[-+]?[0-9]+', '', text)\n",
        "    text = re.sub(r'[^\\w\\s]','', text)\n",
        "    text = text.strip()\n",
        "    return text"
      ],
      "metadata": {
        "id": "Jri8H3P4YQ32"
      },
      "execution_count": 4,
      "outputs": []
    },
    {
      "cell_type": "code",
      "source": [
        "%time data['clean_teks'] = data['name'].apply(text_preprocessing)"
      ],
      "metadata": {
        "colab": {
          "base_uri": "https://localhost:8080/"
        },
        "id": "shXzHPVbYldG",
        "outputId": "bd8133c4-71d9-4c2c-f787-8db2f39dc716"
      },
      "execution_count": 5,
      "outputs": [
        {
          "output_type": "stream",
          "name": "stdout",
          "text": [
            "CPU times: user 109 ms, sys: 5.76 ms, total: 114 ms\n",
            "Wall time: 117 ms\n"
          ]
        }
      ]
    },
    {
      "cell_type": "code",
      "source": [
        "data.head(10)"
      ],
      "metadata": {
        "colab": {
          "base_uri": "https://localhost:8080/",
          "height": 363
        },
        "id": "NVAuTmBhYqRF",
        "outputId": "8b05fcdd-1d8b-44e9-b254-92979ca2b4c5"
      },
      "execution_count": 6,
      "outputs": [
        {
          "output_type": "execute_result",
          "data": {
            "text/plain": [
              "                          name      hex good name             clean_teks\n",
              "0                      100 Mph  #c93f38         x                    mph\n",
              "1           18th Century Green  #a59344       NaN       th century green\n",
              "2               1975 Earth Red  #7b463b       NaN              earth red\n",
              "3           1989 Miami Hotline  #dd3366       NaN          miami hotline\n",
              "4  20000 Leagues Under the Sea  #191970         x  leagues under the sea\n",
              "5                    24 Carrot  #e56e24         x                 carrot\n",
              "6                     24 Karat  #dfc685         x                  karat\n",
              "7               3AM in Shibuya  #225577         x          am in shibuya\n",
              "8                    3am Latte  #c0a98e         x               am latte\n",
              "9                   400XT Film  #d2d2c0       NaN                xt film"
            ],
            "text/html": [
              "\n",
              "  <div id=\"df-8a506880-a20c-4144-bce2-d4d1145cf78d\" class=\"colab-df-container\">\n",
              "    <div>\n",
              "<style scoped>\n",
              "    .dataframe tbody tr th:only-of-type {\n",
              "        vertical-align: middle;\n",
              "    }\n",
              "\n",
              "    .dataframe tbody tr th {\n",
              "        vertical-align: top;\n",
              "    }\n",
              "\n",
              "    .dataframe thead th {\n",
              "        text-align: right;\n",
              "    }\n",
              "</style>\n",
              "<table border=\"1\" class=\"dataframe\">\n",
              "  <thead>\n",
              "    <tr style=\"text-align: right;\">\n",
              "      <th></th>\n",
              "      <th>name</th>\n",
              "      <th>hex</th>\n",
              "      <th>good name</th>\n",
              "      <th>clean_teks</th>\n",
              "    </tr>\n",
              "  </thead>\n",
              "  <tbody>\n",
              "    <tr>\n",
              "      <th>0</th>\n",
              "      <td>100 Mph</td>\n",
              "      <td>#c93f38</td>\n",
              "      <td>x</td>\n",
              "      <td>mph</td>\n",
              "    </tr>\n",
              "    <tr>\n",
              "      <th>1</th>\n",
              "      <td>18th Century Green</td>\n",
              "      <td>#a59344</td>\n",
              "      <td>NaN</td>\n",
              "      <td>th century green</td>\n",
              "    </tr>\n",
              "    <tr>\n",
              "      <th>2</th>\n",
              "      <td>1975 Earth Red</td>\n",
              "      <td>#7b463b</td>\n",
              "      <td>NaN</td>\n",
              "      <td>earth red</td>\n",
              "    </tr>\n",
              "    <tr>\n",
              "      <th>3</th>\n",
              "      <td>1989 Miami Hotline</td>\n",
              "      <td>#dd3366</td>\n",
              "      <td>NaN</td>\n",
              "      <td>miami hotline</td>\n",
              "    </tr>\n",
              "    <tr>\n",
              "      <th>4</th>\n",
              "      <td>20000 Leagues Under the Sea</td>\n",
              "      <td>#191970</td>\n",
              "      <td>x</td>\n",
              "      <td>leagues under the sea</td>\n",
              "    </tr>\n",
              "    <tr>\n",
              "      <th>5</th>\n",
              "      <td>24 Carrot</td>\n",
              "      <td>#e56e24</td>\n",
              "      <td>x</td>\n",
              "      <td>carrot</td>\n",
              "    </tr>\n",
              "    <tr>\n",
              "      <th>6</th>\n",
              "      <td>24 Karat</td>\n",
              "      <td>#dfc685</td>\n",
              "      <td>x</td>\n",
              "      <td>karat</td>\n",
              "    </tr>\n",
              "    <tr>\n",
              "      <th>7</th>\n",
              "      <td>3AM in Shibuya</td>\n",
              "      <td>#225577</td>\n",
              "      <td>x</td>\n",
              "      <td>am in shibuya</td>\n",
              "    </tr>\n",
              "    <tr>\n",
              "      <th>8</th>\n",
              "      <td>3am Latte</td>\n",
              "      <td>#c0a98e</td>\n",
              "      <td>x</td>\n",
              "      <td>am latte</td>\n",
              "    </tr>\n",
              "    <tr>\n",
              "      <th>9</th>\n",
              "      <td>400XT Film</td>\n",
              "      <td>#d2d2c0</td>\n",
              "      <td>NaN</td>\n",
              "      <td>xt film</td>\n",
              "    </tr>\n",
              "  </tbody>\n",
              "</table>\n",
              "</div>\n",
              "    <div class=\"colab-df-buttons\">\n",
              "\n",
              "  <div class=\"colab-df-container\">\n",
              "    <button class=\"colab-df-convert\" onclick=\"convertToInteractive('df-8a506880-a20c-4144-bce2-d4d1145cf78d')\"\n",
              "            title=\"Convert this dataframe to an interactive table.\"\n",
              "            style=\"display:none;\">\n",
              "\n",
              "  <svg xmlns=\"http://www.w3.org/2000/svg\" height=\"24px\" viewBox=\"0 -960 960 960\">\n",
              "    <path d=\"M120-120v-720h720v720H120Zm60-500h600v-160H180v160Zm220 220h160v-160H400v160Zm0 220h160v-160H400v160ZM180-400h160v-160H180v160Zm440 0h160v-160H620v160ZM180-180h160v-160H180v160Zm440 0h160v-160H620v160Z\"/>\n",
              "  </svg>\n",
              "    </button>\n",
              "\n",
              "  <style>\n",
              "    .colab-df-container {\n",
              "      display:flex;\n",
              "      gap: 12px;\n",
              "    }\n",
              "\n",
              "    .colab-df-convert {\n",
              "      background-color: #E8F0FE;\n",
              "      border: none;\n",
              "      border-radius: 50%;\n",
              "      cursor: pointer;\n",
              "      display: none;\n",
              "      fill: #1967D2;\n",
              "      height: 32px;\n",
              "      padding: 0 0 0 0;\n",
              "      width: 32px;\n",
              "    }\n",
              "\n",
              "    .colab-df-convert:hover {\n",
              "      background-color: #E2EBFA;\n",
              "      box-shadow: 0px 1px 2px rgba(60, 64, 67, 0.3), 0px 1px 3px 1px rgba(60, 64, 67, 0.15);\n",
              "      fill: #174EA6;\n",
              "    }\n",
              "\n",
              "    .colab-df-buttons div {\n",
              "      margin-bottom: 4px;\n",
              "    }\n",
              "\n",
              "    [theme=dark] .colab-df-convert {\n",
              "      background-color: #3B4455;\n",
              "      fill: #D2E3FC;\n",
              "    }\n",
              "\n",
              "    [theme=dark] .colab-df-convert:hover {\n",
              "      background-color: #434B5C;\n",
              "      box-shadow: 0px 1px 3px 1px rgba(0, 0, 0, 0.15);\n",
              "      filter: drop-shadow(0px 1px 2px rgba(0, 0, 0, 0.3));\n",
              "      fill: #FFFFFF;\n",
              "    }\n",
              "  </style>\n",
              "\n",
              "    <script>\n",
              "      const buttonEl =\n",
              "        document.querySelector('#df-8a506880-a20c-4144-bce2-d4d1145cf78d button.colab-df-convert');\n",
              "      buttonEl.style.display =\n",
              "        google.colab.kernel.accessAllowed ? 'block' : 'none';\n",
              "\n",
              "      async function convertToInteractive(key) {\n",
              "        const element = document.querySelector('#df-8a506880-a20c-4144-bce2-d4d1145cf78d');\n",
              "        const dataTable =\n",
              "          await google.colab.kernel.invokeFunction('convertToInteractive',\n",
              "                                                    [key], {});\n",
              "        if (!dataTable) return;\n",
              "\n",
              "        const docLinkHtml = 'Like what you see? Visit the ' +\n",
              "          '<a target=\"_blank\" href=https://colab.research.google.com/notebooks/data_table.ipynb>data table notebook</a>'\n",
              "          + ' to learn more about interactive tables.';\n",
              "        element.innerHTML = '';\n",
              "        dataTable['output_type'] = 'display_data';\n",
              "        await google.colab.output.renderOutput(dataTable, element);\n",
              "        const docLink = document.createElement('div');\n",
              "        docLink.innerHTML = docLinkHtml;\n",
              "        element.appendChild(docLink);\n",
              "      }\n",
              "    </script>\n",
              "  </div>\n",
              "\n",
              "\n",
              "<div id=\"df-1f016990-16cc-4386-a186-390266096a02\">\n",
              "  <button class=\"colab-df-quickchart\" onclick=\"quickchart('df-1f016990-16cc-4386-a186-390266096a02')\"\n",
              "            title=\"Suggest charts.\"\n",
              "            style=\"display:none;\">\n",
              "\n",
              "<svg xmlns=\"http://www.w3.org/2000/svg\" height=\"24px\"viewBox=\"0 0 24 24\"\n",
              "     width=\"24px\">\n",
              "    <g>\n",
              "        <path d=\"M19 3H5c-1.1 0-2 .9-2 2v14c0 1.1.9 2 2 2h14c1.1 0 2-.9 2-2V5c0-1.1-.9-2-2-2zM9 17H7v-7h2v7zm4 0h-2V7h2v10zm4 0h-2v-4h2v4z\"/>\n",
              "    </g>\n",
              "</svg>\n",
              "  </button>\n",
              "\n",
              "<style>\n",
              "  .colab-df-quickchart {\n",
              "      --bg-color: #E8F0FE;\n",
              "      --fill-color: #1967D2;\n",
              "      --hover-bg-color: #E2EBFA;\n",
              "      --hover-fill-color: #174EA6;\n",
              "      --disabled-fill-color: #AAA;\n",
              "      --disabled-bg-color: #DDD;\n",
              "  }\n",
              "\n",
              "  [theme=dark] .colab-df-quickchart {\n",
              "      --bg-color: #3B4455;\n",
              "      --fill-color: #D2E3FC;\n",
              "      --hover-bg-color: #434B5C;\n",
              "      --hover-fill-color: #FFFFFF;\n",
              "      --disabled-bg-color: #3B4455;\n",
              "      --disabled-fill-color: #666;\n",
              "  }\n",
              "\n",
              "  .colab-df-quickchart {\n",
              "    background-color: var(--bg-color);\n",
              "    border: none;\n",
              "    border-radius: 50%;\n",
              "    cursor: pointer;\n",
              "    display: none;\n",
              "    fill: var(--fill-color);\n",
              "    height: 32px;\n",
              "    padding: 0;\n",
              "    width: 32px;\n",
              "  }\n",
              "\n",
              "  .colab-df-quickchart:hover {\n",
              "    background-color: var(--hover-bg-color);\n",
              "    box-shadow: 0 1px 2px rgba(60, 64, 67, 0.3), 0 1px 3px 1px rgba(60, 64, 67, 0.15);\n",
              "    fill: var(--button-hover-fill-color);\n",
              "  }\n",
              "\n",
              "  .colab-df-quickchart-complete:disabled,\n",
              "  .colab-df-quickchart-complete:disabled:hover {\n",
              "    background-color: var(--disabled-bg-color);\n",
              "    fill: var(--disabled-fill-color);\n",
              "    box-shadow: none;\n",
              "  }\n",
              "\n",
              "  .colab-df-spinner {\n",
              "    border: 2px solid var(--fill-color);\n",
              "    border-color: transparent;\n",
              "    border-bottom-color: var(--fill-color);\n",
              "    animation:\n",
              "      spin 1s steps(1) infinite;\n",
              "  }\n",
              "\n",
              "  @keyframes spin {\n",
              "    0% {\n",
              "      border-color: transparent;\n",
              "      border-bottom-color: var(--fill-color);\n",
              "      border-left-color: var(--fill-color);\n",
              "    }\n",
              "    20% {\n",
              "      border-color: transparent;\n",
              "      border-left-color: var(--fill-color);\n",
              "      border-top-color: var(--fill-color);\n",
              "    }\n",
              "    30% {\n",
              "      border-color: transparent;\n",
              "      border-left-color: var(--fill-color);\n",
              "      border-top-color: var(--fill-color);\n",
              "      border-right-color: var(--fill-color);\n",
              "    }\n",
              "    40% {\n",
              "      border-color: transparent;\n",
              "      border-right-color: var(--fill-color);\n",
              "      border-top-color: var(--fill-color);\n",
              "    }\n",
              "    60% {\n",
              "      border-color: transparent;\n",
              "      border-right-color: var(--fill-color);\n",
              "    }\n",
              "    80% {\n",
              "      border-color: transparent;\n",
              "      border-right-color: var(--fill-color);\n",
              "      border-bottom-color: var(--fill-color);\n",
              "    }\n",
              "    90% {\n",
              "      border-color: transparent;\n",
              "      border-bottom-color: var(--fill-color);\n",
              "    }\n",
              "  }\n",
              "</style>\n",
              "\n",
              "  <script>\n",
              "    async function quickchart(key) {\n",
              "      const quickchartButtonEl =\n",
              "        document.querySelector('#' + key + ' button');\n",
              "      quickchartButtonEl.disabled = true;  // To prevent multiple clicks.\n",
              "      quickchartButtonEl.classList.add('colab-df-spinner');\n",
              "      try {\n",
              "        const charts = await google.colab.kernel.invokeFunction(\n",
              "            'suggestCharts', [key], {});\n",
              "      } catch (error) {\n",
              "        console.error('Error during call to suggestCharts:', error);\n",
              "      }\n",
              "      quickchartButtonEl.classList.remove('colab-df-spinner');\n",
              "      quickchartButtonEl.classList.add('colab-df-quickchart-complete');\n",
              "    }\n",
              "    (() => {\n",
              "      let quickchartButtonEl =\n",
              "        document.querySelector('#df-1f016990-16cc-4386-a186-390266096a02 button');\n",
              "      quickchartButtonEl.style.display =\n",
              "        google.colab.kernel.accessAllowed ? 'block' : 'none';\n",
              "    })();\n",
              "  </script>\n",
              "</div>\n",
              "    </div>\n",
              "  </div>\n"
            ]
          },
          "metadata": {},
          "execution_count": 6
        }
      ]
    },
    {
      "cell_type": "markdown",
      "source": [
        "# 4. Word Embedding"
      ],
      "metadata": {
        "id": "c1I7PtRvd4dX"
      }
    },
    {
      "cell_type": "code",
      "source": [
        "import gensim\n",
        "gensim.__version__"
      ],
      "metadata": {
        "colab": {
          "base_uri": "https://localhost:8080/",
          "height": 35
        },
        "id": "VAQ1dyz5Yxku",
        "outputId": "de78a97f-2bf4-4d14-d383-cec7af193e24"
      },
      "execution_count": 7,
      "outputs": [
        {
          "output_type": "execute_result",
          "data": {
            "text/plain": [
              "'4.3.2'"
            ],
            "application/vnd.google.colaboratory.intrinsic+json": {
              "type": "string"
            }
          },
          "metadata": {},
          "execution_count": 7
        }
      ]
    },
    {
      "cell_type": "code",
      "source": [
        "def tokenization(text):\n",
        "    text = re.split('\\W+', text)\n",
        "    return text\n",
        "\n",
        "sentences = data['clean_teks'].apply(lambda x: tokenization(x.lower()))\n",
        "sentences"
      ],
      "metadata": {
        "colab": {
          "base_uri": "https://localhost:8080/"
        },
        "id": "unkSYcu8Y2O2",
        "outputId": "d4ace9f3-536e-4949-89f3-4895f821cdcc"
      },
      "execution_count": 8,
      "outputs": [
        {
          "output_type": "execute_result",
          "data": {
            "text/plain": [
              "0                             [mph]\n",
              "1              [th, century, green]\n",
              "2                      [earth, red]\n",
              "3                  [miami, hotline]\n",
              "4        [leagues, under, the, sea]\n",
              "                    ...            \n",
              "30217                     [zumthor]\n",
              "30218                [zunda, green]\n",
              "30219                        [zuni]\n",
              "30220                [zürich, blue]\n",
              "30221               [zürich, white]\n",
              "Name: clean_teks, Length: 30222, dtype: object"
            ]
          },
          "metadata": {},
          "execution_count": 8
        }
      ]
    },
    {
      "cell_type": "code",
      "source": [
        "EMBEDDING_SIZE = 100\n",
        "WINDOW_SIZE = 5\n",
        "MIN_WORD  = 1\n",
        "EPOCH = 10\n",
        "SG = 1\n",
        "NEGATIVE = 5"
      ],
      "metadata": {
        "id": "uQyDoUqwY6cx"
      },
      "execution_count": 9,
      "outputs": []
    },
    {
      "cell_type": "code",
      "source": [
        "%%time\n",
        "\n",
        "from gensim.models import Word2Vec, FastText, KeyedVectors\n",
        "\n",
        "model_word2vec = Word2Vec(sentences, vector_size=EMBEDDING_SIZE, sg=SG, min_count=MIN_WORD, window=WINDOW_SIZE, negative=NEGATIVE, epochs=EPOCH)"
      ],
      "metadata": {
        "colab": {
          "base_uri": "https://localhost:8080/"
        },
        "id": "snMS8gJcZELL",
        "outputId": "38c2126c-7c63-4f7c-b7b9-3b0e2e302754"
      },
      "execution_count": 11,
      "outputs": [
        {
          "output_type": "stream",
          "name": "stdout",
          "text": [
            "CPU times: user 2.41 s, sys: 30.2 ms, total: 2.44 s\n",
            "Wall time: 2.33 s\n"
          ]
        }
      ]
    },
    {
      "cell_type": "code",
      "source": [
        "model_word2vec.save('myvec-word2vec-100.model')"
      ],
      "metadata": {
        "id": "PQ9iOWgXZaJs"
      },
      "execution_count": 12,
      "outputs": []
    },
    {
      "cell_type": "code",
      "source": [
        "word2vec_word_vectors = model_word2vec.wv\n",
        "word2vec_word_vectors.save('myvec-word2vec-100.wordvectors')"
      ],
      "metadata": {
        "id": "tfZOYgI3Za8y"
      },
      "execution_count": 13,
      "outputs": []
    },
    {
      "cell_type": "code",
      "source": [
        "model_word2vec.wv['white']"
      ],
      "metadata": {
        "colab": {
          "base_uri": "https://localhost:8080/"
        },
        "id": "w2b1KZiFZeks",
        "outputId": "9a2267e6-aeb7-47da-9a33-f0eaa1480437"
      },
      "execution_count": 14,
      "outputs": [
        {
          "output_type": "execute_result",
          "data": {
            "text/plain": [
              "array([-0.05397935,  0.32731318,  0.18651617,  0.05779621,  0.11531378,\n",
              "       -0.6196452 ,  0.24981365,  0.8844904 , -0.4776873 , -0.4646988 ,\n",
              "       -0.06222136, -0.5606463 ,  0.13026448,  0.39943355,  0.1454302 ,\n",
              "       -0.18587881,  0.1488771 , -0.08632326, -0.19410123, -0.71771824,\n",
              "        0.3647137 ,  0.09676088,  0.29740858, -0.2310486 , -0.08876875,\n",
              "       -0.05225303, -0.2650689 , -0.06896566, -0.3623861 , -0.08861355,\n",
              "        0.37356007,  0.02295939, -0.01109015, -0.34992543,  0.00252098,\n",
              "        0.5348989 ,  0.1792818 , -0.16891469, -0.29365057, -0.5133918 ,\n",
              "        0.16143642, -0.41468462, -0.11176073,  0.14784056,  0.15791626,\n",
              "       -0.25594038, -0.38294032, -0.14333819,  0.24698077,  0.18480991,\n",
              "        0.05777409, -0.25647804, -0.11857032,  0.01257947, -0.04572921,\n",
              "        0.14860456,  0.19419812,  0.01630726, -0.2875113 ,  0.20332532,\n",
              "       -0.08999471, -0.0064762 ,  0.05151354, -0.0475325 , -0.4552768 ,\n",
              "        0.4040117 ,  0.24859071,  0.3132037 , -0.24994865,  0.2574639 ,\n",
              "       -0.06106263,  0.0975119 ,  0.42735347,  0.07503171,  0.41449392,\n",
              "        0.29940453,  0.11952297,  0.07937817, -0.27395314,  0.09397835,\n",
              "       -0.25532705,  0.23673522, -0.15072298,  0.36224928, -0.26897946,\n",
              "       -0.04325334,  0.19105013,  0.24725379,  0.2613208 ,  0.02267531,\n",
              "        0.48811293,  0.14495945,  0.08794092, -0.00679077,  0.5874641 ,\n",
              "        0.31718168,  0.21697807, -0.4564566 ,  0.04826848,  0.04513085],\n",
              "      dtype=float32)"
            ]
          },
          "metadata": {},
          "execution_count": 14
        }
      ]
    },
    {
      "cell_type": "code",
      "source": [
        "model_word2vec.wv.most_similar('white')"
      ],
      "metadata": {
        "colab": {
          "base_uri": "https://localhost:8080/"
        },
        "id": "mgVKUStGZkzK",
        "outputId": "72349d91-ef38-40cd-9572-3f27d52927b9"
      },
      "execution_count": 15,
      "outputs": [
        {
          "output_type": "execute_result",
          "data": {
            "text/plain": [
              "[('red', 0.9992881417274475),\n",
              " ('pink', 0.9992802739143372),\n",
              " ('grey', 0.9992585182189941),\n",
              " ('blue', 0.9992529153823853),\n",
              " ('brown', 0.9992319941520691),\n",
              " ('green', 0.9992244839668274),\n",
              " ('purple', 0.9992130398750305),\n",
              " ('rose', 0.9991775155067444),\n",
              " ('yellow', 0.9991198778152466),\n",
              " ('gold', 0.9989777207374573)]"
            ]
          },
          "metadata": {},
          "execution_count": 15
        }
      ]
    },
    {
      "cell_type": "code",
      "source": [
        "word_list = ['zürich', 'blue', 'green', 'red', 'earth', 'miami', 'under']\n",
        "\n",
        "# daftar vektor dari kata-kata tersebut\n",
        "word_vectors = np.array([model_word2vec.wv[w] for w in word_list])\n",
        "print(word_vectors)"
      ],
      "metadata": {
        "colab": {
          "base_uri": "https://localhost:8080/"
        },
        "id": "13GUusLYZodH",
        "outputId": "3ef5d0aa-3151-4a8b-9cb5-e3d232cd1418"
      },
      "execution_count": 17,
      "outputs": [
        {
          "output_type": "stream",
          "name": "stdout",
          "text": [
            "[[ 3.30301421e-03  1.87088188e-03 -3.79291200e-03  7.60761613e-04\n",
            "  -3.01928283e-03  1.02891931e-02 -9.61217657e-03 -6.92343526e-03\n",
            "   8.48968979e-03 -5.10155596e-03 -3.81917274e-03 -1.45829807e-03\n",
            "   8.65168311e-03 -2.27837288e-03 -5.32465475e-03  2.11277697e-03\n",
            "  -6.79538678e-03  1.00665651e-02  3.77681456e-03 -5.69330435e-03\n",
            "   4.79658693e-03  6.43553585e-03 -1.01910504e-02  5.57026360e-03\n",
            "   3.24489921e-03 -6.87304046e-03  2.63546710e-03  5.16383722e-03\n",
            "   3.82498535e-03 -4.08759760e-03 -8.37382581e-03 -1.01101007e-02\n",
            "   8.40724632e-03  5.45960292e-03 -8.44945759e-03 -3.54108680e-03\n",
            "   4.32034628e-03 -1.17209321e-03 -5.16051799e-03 -1.79384649e-03\n",
            "  -7.43936235e-03  1.49086898e-03  7.66841182e-03  5.38545614e-03\n",
            "  -7.13471323e-03 -6.44706702e-03  1.16360076e-02  9.71126929e-03\n",
            "  -2.23037438e-03  1.61106035e-03  8.45063198e-03 -5.52046997e-03\n",
            "  -7.90900085e-03 -1.67425221e-03  5.75965270e-03  2.78229173e-03\n",
            "  -1.68217695e-03  1.32939918e-03  9.60267242e-03 -4.17238753e-03\n",
            "   9.19539761e-03 -7.60864886e-03  9.54754301e-04 -1.97663880e-03\n",
            "  -7.25359749e-03  1.57383364e-03  2.45364988e-03  4.02306020e-03\n",
            "   3.75320413e-03 -8.58671125e-03  7.56994495e-03  9.38128587e-03\n",
            "  -7.75595894e-04  1.61862536e-03 -9.05750412e-03 -6.25197729e-03\n",
            "   4.27046604e-03  1.16440456e-03  1.29758730e-03 -5.57894073e-03\n",
            "  -6.39337162e-03  2.07500486e-03  9.27907042e-03  1.77603937e-03\n",
            "   3.83417914e-03  9.13255662e-03  8.44865292e-03 -9.08277743e-03\n",
            "   4.14574810e-04  6.76591974e-03  5.86602278e-03  8.50134529e-03\n",
            "   2.07696552e-03  1.60357961e-03  6.96244882e-03  3.09093762e-03\n",
            "   8.47276207e-03  1.46626588e-03 -4.59450576e-03  1.50772429e-03]\n",
            " [-5.03099114e-02  4.02468801e-01  2.38342404e-01  1.00079320e-01\n",
            "   1.49816245e-01 -7.76388943e-01  3.17135364e-01  1.11026812e+00\n",
            "  -5.88894665e-01 -5.79284430e-01 -5.91376536e-02 -6.92339718e-01\n",
            "   1.70821369e-01  5.18341124e-01  1.74968138e-01 -2.15794072e-01\n",
            "   2.03865781e-01 -9.86927152e-02 -2.47006357e-01 -9.01739240e-01\n",
            "   4.78222251e-01  1.28895879e-01  3.63243431e-01 -2.99295336e-01\n",
            "  -9.19442251e-02 -6.39821663e-02 -3.26822042e-01 -7.08330274e-02\n",
            "  -4.59247380e-01 -1.29125684e-01  4.45077419e-01  3.78897674e-02\n",
            "   3.72143486e-03 -4.30531144e-01  3.70393071e-04  6.50813818e-01\n",
            "   2.13904038e-01 -2.17441380e-01 -3.71633291e-01 -6.45878494e-01\n",
            "   1.73347548e-01 -4.97995943e-01 -1.32315144e-01  1.85370609e-01\n",
            "   1.96346745e-01 -3.14785153e-01 -4.92486417e-01 -1.78311720e-01\n",
            "   3.19078326e-01  2.43576899e-01  5.42396158e-02 -2.97295213e-01\n",
            "  -1.60657018e-01 -1.29675365e-03 -2.38340925e-02  1.77774474e-01\n",
            "   2.31580138e-01  2.42118966e-02 -3.55116397e-01  2.74835378e-01\n",
            "  -1.25819147e-01 -1.18192127e-02  4.31414470e-02 -6.14483505e-02\n",
            "  -5.73583722e-01  4.97996271e-01  3.08841050e-01  4.01758045e-01\n",
            "  -3.05417895e-01  3.36046159e-01 -6.92466050e-02  1.20130725e-01\n",
            "   5.17320275e-01  7.66706020e-02  5.27070701e-01  3.58216405e-01\n",
            "   1.80543721e-01  9.30642262e-02 -3.39409500e-01  1.00258343e-01\n",
            "  -3.37271869e-01  3.14822942e-01 -1.85123175e-01  4.70548093e-01\n",
            "  -3.39368582e-01 -3.63652483e-02  2.59601921e-01  2.86055267e-01\n",
            "   3.24693859e-01  3.40024382e-02  5.93098879e-01  1.63650244e-01\n",
            "   1.32380620e-01 -1.24071829e-03  7.21492290e-01  3.93257290e-01\n",
            "   2.60951191e-01 -5.62973559e-01  5.59238084e-02  8.15979987e-02]\n",
            " [-5.92992045e-02  3.82136554e-01  2.29182810e-01  9.25415307e-02\n",
            "   1.59120873e-01 -7.29052246e-01  2.88207591e-01  1.04060280e+00\n",
            "  -5.49313486e-01 -5.50095022e-01 -6.75754622e-02 -6.61329746e-01\n",
            "   1.51175976e-01  4.89273131e-01  1.75352678e-01 -1.91304475e-01\n",
            "   1.97831526e-01 -8.56300592e-02 -2.28240341e-01 -8.34100425e-01\n",
            "   4.42532301e-01  1.10191628e-01  3.46387029e-01 -2.93708652e-01\n",
            "  -8.40744376e-02 -5.12484089e-02 -3.25393140e-01 -5.83228432e-02\n",
            "  -4.26899195e-01 -1.12773016e-01  4.44279253e-01  3.59814242e-02\n",
            "  -1.37081323e-02 -4.04492348e-01  1.07095791e-02  6.16659164e-01\n",
            "   2.11414382e-01 -1.97795510e-01 -3.43244344e-01 -5.81984460e-01\n",
            "   1.82465658e-01 -4.78419930e-01 -1.30386606e-01  1.68618083e-01\n",
            "   1.80764735e-01 -2.80230671e-01 -4.46805328e-01 -1.80710956e-01\n",
            "   2.94614255e-01  2.21039683e-01  7.14202523e-02 -2.99961597e-01\n",
            "  -1.51385084e-01  6.51045050e-03 -4.14067283e-02  1.87022731e-01\n",
            "   2.25280032e-01  3.74210477e-02 -3.31110865e-01  2.59186357e-01\n",
            "  -1.28720984e-01 -4.66226181e-03  3.86552215e-02 -5.35638779e-02\n",
            "  -5.29892623e-01  4.79713082e-01  3.01326871e-01  3.50262672e-01\n",
            "  -2.67504871e-01  3.29087585e-01 -8.18846598e-02  9.80102867e-02\n",
            "   4.94230211e-01  8.44831467e-02  4.85137194e-01  3.27296972e-01\n",
            "   1.49865776e-01  8.47305506e-02 -3.14336568e-01  9.39441845e-02\n",
            "  -3.24890524e-01  2.97951162e-01 -1.79839745e-01  4.28329855e-01\n",
            "  -3.12496036e-01 -3.79388854e-02  2.28024110e-01  2.62976259e-01\n",
            "   3.08032721e-01  1.50543023e-02  5.55503547e-01  1.47578239e-01\n",
            "   1.15563914e-01 -1.44015308e-02  6.68418825e-01  3.65047127e-01\n",
            "   2.62637615e-01 -5.23436487e-01  3.93583961e-02  6.96720406e-02]\n",
            " [-5.43225780e-02  3.43816459e-01  1.89260691e-01  7.33312070e-02\n",
            "   1.37046337e-01 -6.20270014e-01  2.49848500e-01  8.90890837e-01\n",
            "  -4.62862998e-01 -4.70960200e-01 -4.14923243e-02 -5.53768754e-01\n",
            "   1.42694220e-01  4.09632742e-01  1.60581797e-01 -1.76989526e-01\n",
            "   1.68370515e-01 -8.70923772e-02 -2.03914061e-01 -7.03098178e-01\n",
            "   3.76290500e-01  9.60840955e-02  2.98475981e-01 -2.30077773e-01\n",
            "  -8.73597339e-02 -4.36700061e-02 -2.65386343e-01 -5.39992675e-02\n",
            "  -3.66680890e-01 -9.72740054e-02  3.66765112e-01  2.61427797e-02\n",
            "  -2.03704741e-02 -3.45111519e-01  5.50329313e-03  5.36337197e-01\n",
            "   1.83443770e-01 -1.80514008e-01 -3.13417345e-01 -5.00314057e-01\n",
            "   1.54965162e-01 -3.95811915e-01 -9.36477110e-02  1.41778901e-01\n",
            "   1.68879926e-01 -2.49744877e-01 -3.82582694e-01 -1.55050933e-01\n",
            "   2.43039235e-01  1.84550688e-01  6.02281913e-02 -2.47816011e-01\n",
            "  -1.45305216e-01 -1.25450715e-02 -4.60227355e-02  1.47549555e-01\n",
            "   1.85757637e-01  3.76249477e-02 -2.75559217e-01  2.07122624e-01\n",
            "  -9.94136482e-02  3.88475088e-03  4.99494560e-02 -4.51433770e-02\n",
            "  -4.57533538e-01  3.95765960e-01  2.52351373e-01  3.21257204e-01\n",
            "  -2.44065762e-01  2.61259705e-01 -5.72139211e-02  8.87945741e-02\n",
            "   4.14134294e-01  8.07191506e-02  4.16364372e-01  2.83053905e-01\n",
            "   1.27759054e-01  8.74739215e-02 -2.83615619e-01  8.67826268e-02\n",
            "  -2.72978485e-01  2.51752436e-01 -1.52220935e-01  3.80462259e-01\n",
            "  -2.70747751e-01 -3.17754783e-02  2.06937656e-01  2.41614699e-01\n",
            "   2.63631880e-01  6.72352780e-03  4.67631727e-01  1.33629292e-01\n",
            "   9.80998874e-02 -4.44446132e-03  5.89830697e-01  3.09631705e-01\n",
            "   2.30697095e-01 -4.55492705e-01  4.45027314e-02  5.30646816e-02]\n",
            " [-1.46992430e-02  8.60606059e-02  5.38047254e-02  1.81653239e-02\n",
            "   4.38040942e-02 -1.70423314e-01  6.85900524e-02  2.41104230e-01\n",
            "  -1.39004067e-01 -1.33265749e-01 -1.77223589e-02 -1.56596139e-01\n",
            "   3.69910747e-02  1.10270590e-01  5.01766205e-02 -4.48227748e-02\n",
            "   4.20487151e-02 -2.19605658e-02 -6.23114444e-02 -1.93720207e-01\n",
            "   1.01018958e-01  3.15944925e-02  7.23536164e-02 -6.79840371e-02\n",
            "  -2.91944146e-02 -3.04794847e-03 -8.10750127e-02 -1.67310443e-02\n",
            "  -1.07954703e-01 -3.30238342e-02  1.09809130e-01  1.19700255e-02\n",
            "   1.54037785e-03 -1.04099929e-01 -3.40118073e-03  1.49317831e-01\n",
            "   5.58841974e-02 -5.08778803e-02 -8.67231563e-02 -1.37409568e-01\n",
            "   4.97952104e-02 -1.15308464e-01 -3.14806774e-02  3.75753604e-02\n",
            "   5.17500266e-02 -7.81859830e-02 -1.00398235e-01 -3.73557992e-02\n",
            "   7.90924877e-02  5.67538030e-02  2.18471885e-02 -7.96899870e-02\n",
            "  -3.87277976e-02 -2.49419035e-03 -1.36717102e-02  3.33147459e-02\n",
            "   5.36347106e-02  1.42228892e-02 -8.21347088e-02  7.10466728e-02\n",
            "  -2.77388413e-02  7.58041721e-03  1.95477661e-02 -1.80105977e-02\n",
            "  -1.30928680e-01  1.07865654e-01  6.17964081e-02  9.71960276e-02\n",
            "  -5.95866330e-02  8.70109499e-02 -2.29102653e-02  1.55597227e-02\n",
            "   1.14275239e-01  8.20711814e-03  1.19628087e-01  8.97372216e-02\n",
            "   3.65013853e-02  2.44545154e-02 -8.46452862e-02  3.46763730e-02\n",
            "  -8.34685192e-02  7.35622123e-02 -3.72771174e-02  1.07038774e-01\n",
            "  -7.34093860e-02 -7.22488528e-03  5.18821105e-02  7.25628212e-02\n",
            "   6.88715354e-02  1.20336302e-02  1.41443968e-01  4.78104800e-02\n",
            "   3.91356759e-02  4.92953043e-03  1.61814272e-01  8.33784938e-02\n",
            "   6.50759786e-02 -1.35583654e-01  1.43347252e-02  2.12020222e-02]\n",
            " [-5.91350906e-03  1.96886044e-02  1.88415486e-03 -4.18139901e-03\n",
            "  -2.50435132e-03 -3.87120582e-02  1.22166835e-02  6.18291199e-02\n",
            "  -2.71973684e-02 -3.65424007e-02 -6.83214143e-03 -3.03254649e-02\n",
            "   7.96466693e-03  2.35283859e-02  1.24607829e-03 -1.69695020e-02\n",
            "   1.92469787e-02 -1.14187794e-02 -8.74602050e-03 -4.32654507e-02\n",
            "   1.35103222e-02  1.16845584e-02  1.94202475e-02 -8.49879161e-03\n",
            "  -1.26330396e-02  3.98516236e-03 -1.51736103e-02 -6.68848259e-03\n",
            "  -2.06355117e-02 -1.01727685e-02  2.99016889e-02  2.12126551e-03\n",
            "  -9.68542509e-03 -2.73261778e-02  7.19164207e-04  3.43091227e-02\n",
            "   6.81999885e-03 -5.51693840e-03 -2.10078582e-02 -3.22415866e-02\n",
            "   8.61967169e-03 -1.63248405e-02 -4.91490180e-04  7.33981188e-03\n",
            "   1.19692497e-02 -1.32705225e-02 -3.13521959e-02 -1.56624336e-02\n",
            "   1.31780365e-02  1.72726698e-02  6.17750455e-03 -1.85231697e-02\n",
            "  -7.24903308e-03 -1.44535908e-03 -1.59277843e-04  1.34427212e-02\n",
            "   2.68661161e-03 -6.57142000e-03 -1.79279391e-02  1.19808810e-02\n",
            "  -8.71334225e-03 -1.56318455e-03 -4.81571397e-03 -6.40258007e-03\n",
            "  -3.85415405e-02  1.50543172e-02  1.11078750e-02  1.55758839e-02\n",
            "  -5.65034850e-03  1.31661389e-02  4.85978834e-03  5.07728488e-04\n",
            "   2.89057754e-02  1.01799602e-02  2.36287396e-02  2.52198987e-02\n",
            "   1.64050404e-02  9.61156096e-03 -1.10496804e-02  1.28289284e-02\n",
            "  -1.73869524e-02  2.39345357e-02 -1.62013173e-02  1.25940433e-02\n",
            "  -1.20144868e-02 -9.91753396e-03  2.88664037e-03  1.97998323e-02\n",
            "   7.46272970e-03  1.80735148e-03  3.27967182e-02 -6.94539282e-04\n",
            "   4.93963715e-03  6.97778491e-03  2.47952119e-02  1.93368718e-02\n",
            "   2.12864410e-02 -2.55846456e-02  8.48098006e-03 -6.08838489e-03]\n",
            " [ 6.25133747e-03  1.11353770e-02 -2.71994341e-03 -3.98753444e-03\n",
            "  -1.96306175e-03 -2.33948547e-02  1.98565237e-02  3.09214685e-02\n",
            "  -2.62327492e-02 -2.23043896e-02  9.97183193e-03 -2.08956711e-02\n",
            "   9.33700148e-03  1.98960565e-02  1.30826514e-02 -3.11699434e-04\n",
            "   1.63766984e-02 -7.33278599e-03 -6.05901051e-03 -4.14398536e-02\n",
            "   2.80844886e-02  1.10905347e-02  6.80700131e-03 -1.06483568e-02\n",
            "   3.40964668e-03 -1.02949953e-02 -2.00633355e-03 -4.32840968e-03\n",
            "  -1.68021098e-02  1.56935025e-03  8.27337615e-03  2.62192963e-03\n",
            "   3.59299965e-03 -7.24643236e-03  2.18106410e-03  2.53162440e-02\n",
            "   1.62897389e-02 -5.80991106e-03 -4.30597644e-03 -2.27718484e-02\n",
            "   1.67313442e-02 -2.54119709e-02  5.53153595e-03  1.53845176e-02\n",
            "   6.14620047e-03 -1.14691705e-02 -5.44855092e-03 -5.97748486e-03\n",
            "   1.24111623e-02  2.76876701e-04 -8.05647019e-03 -1.96124278e-02\n",
            "  -8.61873734e-04 -1.01785557e-02  9.52552166e-03  8.13307520e-03\n",
            "   9.42340121e-03  1.17530962e-02 -1.00864703e-02  1.63166784e-02\n",
            "   5.27746417e-03  1.48051046e-03 -3.04249045e-03 -8.49050656e-03\n",
            "  -1.17858723e-02  1.53841786e-02  1.05731003e-02  1.13183903e-02\n",
            "  -2.60879938e-03  9.60520841e-03 -6.39218837e-03  2.39070039e-03\n",
            "   1.19188614e-02 -3.13282060e-03  1.46852834e-02  9.48103517e-03\n",
            "   1.59506369e-02 -6.02884637e-03 -7.81896804e-03  1.46716721e-02\n",
            "  -8.08992982e-03  2.25454271e-02 -1.57269463e-02  1.09479558e-02\n",
            "  -1.46974316e-02 -8.17597564e-03  1.04448264e-02  1.77281257e-02\n",
            "   7.31653627e-03 -4.15241113e-03  1.53617607e-02  6.30454719e-03\n",
            "   6.97674043e-03  1.20510878e-02  3.17181163e-02  4.05468326e-03\n",
            "   1.62780285e-02 -9.91250109e-03  7.57081318e-04  4.53817099e-03]]\n"
          ]
        }
      ]
    },
    {
      "cell_type": "code",
      "source": [
        "from sklearn.decomposition import PCA, KernelPCA\n",
        "\n",
        "dimred = PCA(n_components=2, copy=False, whiten=True)\n",
        "red_word_vectors = dimred.fit_transform(word_vectors)"
      ],
      "metadata": {
        "id": "xneYL8HeaMFy"
      },
      "execution_count": 18,
      "outputs": []
    },
    {
      "cell_type": "code",
      "source": [
        "red_word_vectors"
      ],
      "metadata": {
        "colab": {
          "base_uri": "https://localhost:8080/"
        },
        "id": "-oXP7QjhaPUq",
        "outputId": "049a851a-19c4-4543-fa25-36c6ec785f16"
      },
      "execution_count": 19,
      "outputs": [
        {
          "output_type": "execute_result",
          "data": {
            "text/plain": [
              "array([[-0.9576963 ,  0.5538425 ],\n",
              "       [ 1.2368443 ,  1.8276379 ],\n",
              "       [ 1.0995512 , -1.0374795 ],\n",
              "       [ 0.80347365, -0.9367381 ],\n",
              "       [-0.45587072, -0.4351709 ],\n",
              "       [-0.8461882 , -0.3096146 ],\n",
              "       [-0.8801138 ,  0.33752277]], dtype=float32)"
            ]
          },
          "metadata": {},
          "execution_count": 19
        }
      ]
    },
    {
      "cell_type": "code",
      "source": [
        "def plot(datas, labels, fc='yellow'):\n",
        "    plt.subplots_adjust(bottom = 0.1)\n",
        "    plt.scatter(datas[:, 0], datas[:, 1], marker='o')\n",
        "\n",
        "    for label, x, y in zip(labels, datas[:, 0], datas[:, 1]):\n",
        "        plt.annotate(label, \\\n",
        "                    xy=(x, y), xytext=(-15, 15), \\\n",
        "                    textcoords='offset points', ha='right', va='bottom', \\\n",
        "                    bbox=dict(boxstyle='round,pad=0.3', fc=fc, alpha=0.5), \\\n",
        "                    arrowprops=dict(arrowstyle = '->', connectionstyle='arc3,rad=0'))\n",
        "    plt.show()"
      ],
      "metadata": {
        "id": "K1ZWbW-QaTAt"
      },
      "execution_count": 20,
      "outputs": []
    },
    {
      "cell_type": "code",
      "source": [
        "plot(red_word_vectors, word_list)"
      ],
      "metadata": {
        "colab": {
          "base_uri": "https://localhost:8080/",
          "height": 452
        },
        "id": "hMQukTujaXA6",
        "outputId": "a69a7887-c43d-43af-91d7-78ae551e09a8"
      },
      "execution_count": 21,
      "outputs": [
        {
          "output_type": "display_data",
          "data": {
            "text/plain": [
              "<Figure size 640x480 with 1 Axes>"
            ],
            "image/png": "[encoded data removed]"
          },
          "metadata": {}
        }
      ]
    }
  ]
}